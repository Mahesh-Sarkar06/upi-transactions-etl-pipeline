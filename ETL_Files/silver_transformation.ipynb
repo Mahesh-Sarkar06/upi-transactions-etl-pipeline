{
 "cells": [
  {
   "cell_type": "markdown",
   "metadata": {
    "application/vnd.databricks.v1+cell": {
     "cellMetadata": {
      "byteLimit": 2048000,
      "rowLimit": 10000
     },
     "inputWidgets": {},
     "nuid": "f1303acf-1fff-4fff-a512-e266e1c93c17",
     "showTitle": false,
     "tableResultSettingsMap": {},
     "title": ""
    }
   },
   "source": [
    "## TRANSFORMING JSON COLUMNS TO TABULAR COLUMNS"
   ]
  },
  {
   "cell_type": "code",
   "execution_count": 0,
   "metadata": {
    "application/vnd.databricks.v1+cell": {
     "cellMetadata": {
      "byteLimit": 2048000,
      "rowLimit": 10000
     },
     "inputWidgets": {},
     "nuid": "70df3899-d8a3-4fb3-a491-aa0ca420bf5c",
     "showTitle": false,
     "tableResultSettingsMap": {},
     "title": ""
    }
   },
   "outputs": [],
   "source": [
    "from pyspark.sql.functions import *\n",
    "from pyspark.sql.types import StructType, StructField, StringType, DoubleType, BooleanType"
   ]
  },
  {
   "cell_type": "code",
   "execution_count": 0,
   "metadata": {
    "application/vnd.databricks.v1+cell": {
     "cellMetadata": {
      "byteLimit": 2048000,
      "rowLimit": 10000
     },
     "inputWidgets": {},
     "nuid": "89c56474-95cf-457e-a4f1-7c2980dde470",
     "showTitle": false,
     "tableResultSettingsMap": {},
     "title": ""
    }
   },
   "outputs": [],
   "source": [
    "%run \"/Workspace/UPI Transactions/Databricks_Notebooks/ETL_Files/01_Config\""
   ]
  },
  {
   "cell_type": "code",
   "execution_count": 0,
   "metadata": {
    "application/vnd.databricks.v1+cell": {
     "cellMetadata": {
      "byteLimit": 2048000,
      "rowLimit": 10000
     },
     "inputWidgets": {},
     "nuid": "71130340-63b8-4240-b659-b0c319be7c54",
     "showTitle": false,
     "tableResultSettingsMap": {},
     "title": ""
    }
   },
   "outputs": [],
   "source": [
    "txn_schema = StructType([\n",
    "    StructField(\"user_details\", StructType([\n",
    "        StructField(\"user_id\", StringType(), True),\n",
    "        StructField(\"user_name\", StringType(), True),\n",
    "        StructField(\"user_bank_name\", StringType(), True),\n",
    "        StructField(\"user_bank_ifsc\", StringType(), True),\n",
    "        StructField(\"demographic_details\", StructType([\n",
    "            StructField(\"kyc\", BooleanType(), True),\n",
    "            StructField(\"id\", StringType(), True)\n",
    "        ]))\n",
    "    ])),\n",
    "    StructField(\"transaction_details\", StructType([\n",
    "        StructField(\"transaction_id\", StringType(), True),\n",
    "        StructField(\"receiver_details\", StructType([\n",
    "            StructField(\"receiver_bank_name\", StringType(), True),\n",
    "            StructField(\"receiver_bank_ifsc\", StringType(), True),\n",
    "            StructField(\"amount\", DoubleType(), True),\n",
    "            StructField(\"category\", StringType(), True)\n",
    "        ]))\n",
    "    ])),\n",
    "    StructField(\"payment_gateway\", StringType(), True),\n",
    "    StructField(\"state\", StringType(), True),\n",
    "    StructField(\"status\", StringType(), True),\n",
    "    StructField(\"timestamp\", StringType(), True)\n",
    "])"
   ]
  },
  {
   "cell_type": "code",
   "execution_count": 0,
   "metadata": {
    "application/vnd.databricks.v1+cell": {
     "cellMetadata": {
      "byteLimit": 2048000,
      "rowLimit": 10000
     },
     "inputWidgets": {},
     "nuid": "25f46741-f03f-41be-8b50-08aa6201d3d3",
     "showTitle": false,
     "tableResultSettingsMap": {},
     "title": ""
    }
   },
   "outputs": [],
   "source": [
    "df_json = spark.read.format('json')\\\n",
    "            .option('multiLine', True)\\\n",
    "            .load(f\"{s3_bucket}/{bronze_folder}/json_files/*.json\")"
   ]
  },
  {
   "cell_type": "code",
   "execution_count": 0,
   "metadata": {
    "application/vnd.databricks.v1+cell": {
     "cellMetadata": {
      "byteLimit": 2048000,
      "rowLimit": 10000
     },
     "inputWidgets": {},
     "nuid": "f627d964-0b74-4f6c-b302-f22f3edbfb71",
     "showTitle": false,
     "tableResultSettingsMap": {},
     "title": ""
    }
   },
   "outputs": [],
   "source": [
    "df_json.printSchema()"
   ]
  },
  {
   "cell_type": "code",
   "execution_count": 0,
   "metadata": {
    "application/vnd.databricks.v1+cell": {
     "cellMetadata": {
      "byteLimit": 2048000,
      "rowLimit": 10000
     },
     "inputWidgets": {},
     "nuid": "0ff050f5-2cc2-4426-9ddf-9a10fa708326",
     "showTitle": false,
     "tableResultSettingsMap": {},
     "title": ""
    }
   },
   "outputs": [],
   "source": [
    "df_flatten = df_json.select(\n",
    "        col('user_details.user_id').alias('user_id'),\n",
    "        col('user_details.user_name').alias('user_name'),\n",
    "        col('user_details.user_bank_name').alias('sender_bank'),\n",
    "        col('user_details.user_bank_ifsc').alias('sender_ifsc'),\n",
    "        col('user_details.demographic_details.kyc').alias('kyc'),\n",
    "        col('user_details.demographic_details.id').alias('id'),\n",
    "        col('transaction_details.transaction_id').alias('transaction_id'),\n",
    "        col('transaction_details.receiver_details.receiver_bank_name').alias('receiver_bank'),\n",
    "        col('transaction_details.receiver_details.receiver_bank_ifsc').alias('receiver_ifsc'),\n",
    "        col('transaction_details.receiver_details.amount').cast('double').alias('amount'),\n",
    "        col('transaction_details.receiver_details.category').alias('category'),\n",
    "        col('payment_gateway'),\n",
    "        col('state'),\n",
    "        col('status'),\n",
    "        col('timestamp')\n",
    ").withColumn('timestamp', to_timestamp(col('timestamp'), 'yyyy-MM-dd HH:mm:ss'))"
   ]
  },
  {
   "cell_type": "code",
   "execution_count": 0,
   "metadata": {
    "application/vnd.databricks.v1+cell": {
     "cellMetadata": {
      "byteLimit": 2048000,
      "rowLimit": 10000
     },
     "inputWidgets": {},
     "nuid": "8f724d23-ef17-4365-9046-7e2d4c7a9d1f",
     "showTitle": false,
     "tableResultSettingsMap": {},
     "title": ""
    }
   },
   "outputs": [],
   "source": [
    "df_user = df_flatten.select('user_id', 'user_name').dropDuplicates(['user_id'])\n",
    "\n",
    "df_user.write.format('delta').mode('append')\\\n",
    "        .save(f\"{s3_bucket}/{silver_folder}/dim_user\")"
   ]
  },
  {
   "cell_type": "code",
   "execution_count": 0,
   "metadata": {
    "application/vnd.databricks.v1+cell": {
     "cellMetadata": {
      "byteLimit": 2048000,
      "rowLimit": 10000
     },
     "inputWidgets": {},
     "nuid": "dc96a9cc-062f-48a0-bc0c-ee3e162fb929",
     "showTitle": false,
     "tableResultSettingsMap": {},
     "title": ""
    }
   },
   "outputs": [],
   "source": [
    "sender_df = df_flatten.select(col('sender_bank').alias('bank_name')).distinct()\n",
    "receiver_df = df_flatten.select(col('receiver_bank').alias('bank_name')).distinct()\n",
    "\n",
    "df_banks = sender_df.unionByName(receiver_df).distinct()\\\n",
    "            .withColumn('bank_id', monotonically_increasing_id()+1)\\\n",
    "            .select(col('bank_id').cast('int'), 'bank_name')\n",
    "\n",
    "df_banks.write.format('delta').mode('append')\\\n",
    "        .save(f\"{s3_bucket}/{silver_folder}/dim_bank\")"
   ]
  },
  {
   "cell_type": "code",
   "execution_count": 0,
   "metadata": {
    "application/vnd.databricks.v1+cell": {
     "cellMetadata": {
      "byteLimit": 2048000,
      "rowLimit": 10000
     },
     "inputWidgets": {},
     "nuid": "50034917-bad5-4e07-af5e-ded3a42c8552",
     "showTitle": false,
     "tableResultSettingsMap": {},
     "title": ""
    }
   },
   "outputs": [],
   "source": [
    "df_gateway = df_flatten.select('payment_gateway').distinct()\\\n",
    "                .withColumn('gateway_id', monotonically_increasing_id()+1)\\\n",
    "                .select(col('gateway_id').cast('int'), 'payment_gateway')\n",
    "\n",
    "df_gateway.write.format('delta').mode('append')\\\n",
    "        .save(f\"{s3_bucket}/{silver_folder}/dim_gateway\")"
   ]
  },
  {
   "cell_type": "code",
   "execution_count": 0,
   "metadata": {
    "application/vnd.databricks.v1+cell": {
     "cellMetadata": {
      "byteLimit": 2048000,
      "rowLimit": 10000
     },
     "inputWidgets": {},
     "nuid": "eca15892-ce41-4e62-8eaa-0019b508f1d1",
     "showTitle": false,
     "tableResultSettingsMap": {},
     "title": ""
    }
   },
   "outputs": [],
   "source": [
    "df_category = df_flatten.select('category').distinct()\\\n",
    "                .withColumn('category_id', monotonically_increasing_id()+1)\\\n",
    "                .select(col('category_id').cast('int'), 'category')\n",
    "\n",
    "df_category.write.format('delta').mode('append')\\\n",
    "        .save(f\"{s3_bucket}/{silver_folder}/dim_category\")"
   ]
  },
  {
   "cell_type": "code",
   "execution_count": 0,
   "metadata": {
    "application/vnd.databricks.v1+cell": {
     "cellMetadata": {
      "byteLimit": 2048000,
      "rowLimit": 10000
     },
     "inputWidgets": {},
     "nuid": "8a9be761-079a-4b36-8e1d-f8dd85de2378",
     "showTitle": false,
     "tableResultSettingsMap": {},
     "title": ""
    }
   },
   "outputs": [],
   "source": [
    "df_proof = df_flatten.select('id').dropna().distinct().withColumn('proof_id', monotonically_increasing_id()+1)\\\n",
    "            .select(col('proof_id').cast('int'), 'id')\n",
    "\n",
    "df_proof.write.format('delta').mode('append')\\\n",
    "        .save(f\"{s3_bucket}/{silver_folder}/dim_proof\")"
   ]
  },
  {
   "cell_type": "code",
   "execution_count": 0,
   "metadata": {
    "application/vnd.databricks.v1+cell": {
     "cellMetadata": {
      "byteLimit": 2048000,
      "rowLimit": 10000
     },
     "inputWidgets": {},
     "nuid": "c67eb301-0dc3-4feb-b7e3-cde3650b5245",
     "showTitle": false,
     "tableResultSettingsMap": {},
     "title": ""
    }
   },
   "outputs": [],
   "source": [
    "df_state = df_flatten.select('state').distinct().orderBy('state').withColumn('state_id', monotonically_increasing_id()+1)\\\n",
    "            .select(col('state_id').cast('int'), 'state')\n",
    "\n",
    "df_state.write.format('delta').mode('append')\\\n",
    "        .save(f\"{s3_bucket}/{silver_folder}/dim_state\")"
   ]
  },
  {
   "cell_type": "code",
   "execution_count": 0,
   "metadata": {
    "application/vnd.databricks.v1+cell": {
     "cellMetadata": {
      "byteLimit": 2048000,
      "rowLimit": 10000
     },
     "inputWidgets": {},
     "nuid": "1fa3bc45-2f36-48ed-a111-3b255aabfe0e",
     "showTitle": false,
     "tableResultSettingsMap": {},
     "title": ""
    }
   },
   "outputs": [],
   "source": [
    "df_fact = df_flatten.join(df_user, \"user_id\", 'left')\\\n",
    "            .join(df_proof, \"id\", 'left')\\\n",
    "            .join(df_state, \"state\", 'left')\\\n",
    "            .join(df_category, \"category\", 'left')\\\n",
    "            .join(df_gateway, \"payment_gateway\", 'left')\\\n",
    "            .join(df_banks, (df_flatten.sender_bank == df_banks.bank_name), 'left').withColumnRenamed('bank_id', 'sender_bank_id')\\\n",
    "            .join(df_banks, (df_flatten.receiver_bank == df_banks.bank_name), 'left').drop('user_name', 'bank_name', 'state','receiver_bank', 'sender_bank', 'id', 'category', 'payment_gateway').withColumnRenamed('bank_id', 'receiver_bank_id')\\\n",
    "            .withColumn('year', year(col('timestamp'))).withColumn('month', month(col('timestamp')))\\\n",
    "            .select('user_id', 'sender_bank_id', 'sender_ifsc', 'receiver_bank_id', 'receiver_ifsc', 'amount', 'gateway_id', 'category_id', 'state_id', 'transaction_id', 'status', 'kyc', 'proof_id', 'timestamp', 'year', 'month')\n",
    "\n",
    "df_fact.write.format('delta').mode('append')\\\n",
    "        .partitionBy('year', 'month')\\\n",
    "        .save(f\"{s3_bucket}/{silver_folder}/fact_transactions\")"
   ]
  }
 ],
 "metadata": {
  "application/vnd.databricks.v1+notebook": {
   "computePreferences": {
    "hardware": {
     "accelerator": null,
     "gpuPoolId": null,
     "memory": null
    }
   },
   "dashboards": [],
   "environmentMetadata": {
    "base_environment": "",
    "environment_version": "4"
   },
   "inputWidgetPreferences": null,
   "language": "python",
   "notebookMetadata": {
    "mostRecentlyExecutedCommandWithImplicitDF": {
     "commandId": 6289352104954617,
     "dataframes": [
      "_sqldf"
     ]
    },
    "pythonIndentUnit": 4
   },
   "notebookName": "silver_transformation",
   "widgets": {}
  },
  "language_info": {
   "name": "python"
  }
 },
 "nbformat": 4,
 "nbformat_minor": 0
}
