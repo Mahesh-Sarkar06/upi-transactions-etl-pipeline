{
 "cells": [
  {
   "cell_type": "markdown",
   "metadata": {
    "application/vnd.databricks.v1+cell": {
     "cellMetadata": {
      "byteLimit": 2048000,
      "rowLimit": 10000
     },
     "inputWidgets": {},
     "nuid": "54cdbcff-2c8c-411a-a54f-e1589030a940",
     "showTitle": false,
     "tableResultSettingsMap": {},
     "title": ""
    }
   },
   "source": [
    "## INGESTING RAW DATA FROM AWS S3 BUCKET"
   ]
  },
  {
   "cell_type": "code",
   "execution_count": 0,
   "metadata": {
    "application/vnd.databricks.v1+cell": {
     "cellMetadata": {
      "byteLimit": 2048000,
      "rowLimit": 10000
     },
     "inputWidgets": {},
     "nuid": "c51bd287-32b8-4ab4-ba5f-60183b60b711",
     "showTitle": false,
     "tableResultSettingsMap": {},
     "title": ""
    }
   },
   "outputs": [],
   "source": [
    "from pyspark.sql.functions import to_timestamp, col, regexp_replace, date_format\n",
    "from pyspark.sql.types import StructType, StructField, StringType, DoubleType, BooleanType"
   ]
  },
  {
   "cell_type": "code",
   "execution_count": 0,
   "metadata": {
    "application/vnd.databricks.v1+cell": {
     "cellMetadata": {
      "byteLimit": 2048000,
      "rowLimit": 10000
     },
     "inputWidgets": {},
     "nuid": "01158108-d5ed-4b78-b006-4384b3afa987",
     "showTitle": false,
     "tableResultSettingsMap": {},
     "title": ""
    }
   },
   "outputs": [],
   "source": [
    "%run \"/Workspace/UPI Transactions/Databricks_Notebooks/ETL_Files/01_Config\""
   ]
  },
  {
   "cell_type": "code",
   "execution_count": 0,
   "metadata": {
    "application/vnd.databricks.v1+cell": {
     "cellMetadata": {
      "byteLimit": 2048000,
      "rowLimit": 10000
     },
     "inputWidgets": {},
     "nuid": "fffd3f82-601b-4ae9-a162-3ad67099b061",
     "showTitle": false,
     "tableResultSettingsMap": {},
     "title": ""
    }
   },
   "outputs": [],
   "source": [
    "df_json = spark.readStream.format('cloudFiles')\\\n",
    "            .option('cloudFiles.format', 'json')\\\n",
    "            .option('cloudFiles.schemaEvolutionMode', 'addNewColumns')\\\n",
    "            .option('multiLine', True)\\\n",
    "            .option('cloudFiles.inferColumnTypes', 'true')\\\n",
    "            .option('cloudFiles.schemaLocation', f\"{s3_bucket}/{bronze_folder}/{bronze_schema}/\")\\\n",
    "            .load(f\"{s3_bucket}/{raw_folder}/*.json\")"
   ]
  },
  {
   "cell_type": "code",
   "execution_count": 0,
   "metadata": {
    "application/vnd.databricks.v1+cell": {
     "cellMetadata": {
      "byteLimit": 2048000,
      "rowLimit": 10000
     },
     "inputWidgets": {},
     "nuid": "44ec3f5a-ea04-4d7a-b856-307b2f1a1564",
     "showTitle": false,
     "tableResultSettingsMap": {},
     "title": ""
    }
   },
   "outputs": [],
   "source": [
    "df_final = df_json.withColumn('timestamp',\n",
    "                              to_timestamp(regexp_replace('timestamp', 'Z$', ''), \"yyyy-MM-dd'T'HH:mm:ss.SSSSSSXXX\"))\\\n",
    "            .withColumn('timestamp', date_format(col(\"timestamp\"), 'yyyy-MM-dd HH:mm:ss'))"
   ]
  },
  {
   "cell_type": "code",
   "execution_count": 0,
   "metadata": {
    "application/vnd.databricks.v1+cell": {
     "cellMetadata": {
      "byteLimit": 2048000,
      "rowLimit": 10000
     },
     "inputWidgets": {},
     "nuid": "2dfe7aa8-af83-4cb1-bc61-7f14347e2d9f",
     "showTitle": false,
     "tableResultSettingsMap": {},
     "title": ""
    }
   },
   "outputs": [],
   "source": [
    "df_final.writeStream.format('json')\\\n",
    "    .option('mergeSchema', 'true')\\\n",
    "    .option('checkpointLocation', f\"{s3_bucket}/{bronze_folder}/{checkpoint_location}/\")\\\n",
    "    .outputMode('append')\\\n",
    "    .trigger(availableNow=True)\\\n",
    "    .start(f\"{s3_bucket}/{bronze_folder}/json_files/\")"
   ]
  }
 ],
 "metadata": {
  "application/vnd.databricks.v1+notebook": {
   "computePreferences": {
    "hardware": {
     "accelerator": null,
     "gpuPoolId": null,
     "memory": null
    }
   },
   "dashboards": [],
   "environmentMetadata": {
    "base_environment": "",
    "environment_version": "4"
   },
   "inputWidgetPreferences": null,
   "language": "python",
   "notebookMetadata": {
    "pythonIndentUnit": 4
   },
   "notebookName": "bronze_ingestion",
   "widgets": {}
  },
  "language_info": {
   "name": "python"
  }
 },
 "nbformat": 4,
 "nbformat_minor": 0
}
