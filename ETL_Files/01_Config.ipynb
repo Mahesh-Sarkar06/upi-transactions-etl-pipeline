{
 "cells": [
  {
   "cell_type": "code",
   "execution_count": 0,
   "metadata": {
    "application/vnd.databricks.v1+cell": {
     "cellMetadata": {},
     "inputWidgets": {},
     "nuid": "6c914503-4710-45e8-8cb2-56aae7d2983a",
     "showTitle": false,
     "tableResultSettingsMap": {},
     "title": ""
    }
   },
   "outputs": [],
   "source": [
    "print('Initiating configuration variables!!!')"
   ]
  },
  {
   "cell_type": "code",
   "execution_count": 0,
   "metadata": {
    "application/vnd.databricks.v1+cell": {
     "cellMetadata": {
      "byteLimit": 2048000,
      "rowLimit": 10000
     },
     "inputWidgets": {},
     "nuid": "1d28cb15-c17e-4c10-be85-68df6ddd141d",
     "showTitle": false,
     "tableResultSettingsMap": {},
     "title": ""
    }
   },
   "outputs": [],
   "source": [
    "# AWS S3 BUCKET AND FOLDER PATH\n",
    "s3_bucket = '<YOUR-AWS-S3-BUCKET-NAME>'\n",
    "raw_folder = '<YOUR-RAW-FOLDER-NAME>'\n",
    "bronze_folder = '<YOUR-BRONZE-FOLDER-NAME>'\n",
    "silver_folder = '<YOUR-SILVER-FOLDER-NAME>'"
   ]
  },
  {
   "cell_type": "code",
   "execution_count": 0,
   "metadata": {
    "application/vnd.databricks.v1+cell": {
     "cellMetadata": {
      "byteLimit": 2048000,
      "rowLimit": 10000
     },
     "inputWidgets": {},
     "nuid": "2c9cb989-219a-4256-948d-4765319e0bcd",
     "showTitle": false,
     "tableResultSettingsMap": {},
     "title": ""
    }
   },
   "outputs": [],
   "source": [
    "# COMMON CHECKPOINT AND SCHEMA LOCATIONS\n",
    "bronze_schema = '<YOUR-SCHEMA-NAME-FOLDER-NAME>'\n",
    "checkpoint_location = '<YOUR-CHECKPOINT-LOCATION-FOLDER-NAME>'"
   ]
  },
  {
   "cell_type": "code",
   "execution_count": 0,
   "metadata": {
    "application/vnd.databricks.v1+cell": {
     "cellMetadata": {},
     "inputWidgets": {},
     "nuid": "98de08b2-691c-4963-8ec4-84fd9a1af47e",
     "showTitle": false,
     "tableResultSettingsMap": {},
     "title": ""
    }
   },
   "outputs": [],
   "source": [
    "print('All variables initiated...')"
   ]
  }
 ],
 "metadata": {
  "application/vnd.databricks.v1+notebook": {
   "computePreferences": null,
   "dashboards": [],
   "environmentMetadata": {
    "base_environment": "",
    "environment_version": "4"
   },
   "inputWidgetPreferences": null,
   "language": "python",
   "notebookMetadata": {
    "pythonIndentUnit": 4
   },
   "notebookName": "01_Config",
   "widgets": {}
  },
  "language_info": {
   "name": "python"
  }
 },
 "nbformat": 4,
 "nbformat_minor": 0
}
